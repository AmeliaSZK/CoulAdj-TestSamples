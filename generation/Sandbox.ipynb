{
 "cells": [
  {
   "cell_type": "code",
   "execution_count": 15,
   "id": "color-cherry",
   "metadata": {},
   "outputs": [
    {
     "name": "stdout",
     "output_type": "stream",
     "text": [
      "8 9 8 9\n",
      "7 8 7 8\n",
      "9 8\n"
     ]
    },
    {
     "data": {
      "image/png": "[encoded data removed]",
      "text/plain": [
       "<Figure size 432x288 with 1 Axes>"
      ]
     },
     "metadata": {
      "needs_background": "light"
     },
     "output_type": "display_data"
    },
    {
     "name": "stdout",
     "output_type": "stream",
     "text": [
      "(210, 220, 30, 242) (210, 20, 30, 246)\n",
      "(10, 220, 30, 250) (210, 20, 230, 244)\n",
      "8 9 16 18\n",
      "7 8 15 17\n",
      "18 16\n"
     ]
    },
    {
     "data": {
      "image/png": "[encoded data removed]",
      "text/plain": [
       "<Figure size 432x288 with 1 Axes>"
      ]
     },
     "metadata": {
      "needs_background": "light"
     },
     "output_type": "display_data"
    },
    {
     "name": "stdout",
     "output_type": "stream",
     "text": [
      "(210, 220, 30, 242) (210, 20, 30, 246)\n",
      "(10, 220, 30, 250) (210, 20, 230, 244)\n",
      "8 9 32 36\n",
      "7 8 31 35\n",
      "36 32\n"
     ]
    },
    {
     "data": {
      "image/png": "[encoded data removed]",
      "text/plain": [
       "<Figure size 432x288 with 1 Axes>"
      ]
     },
     "metadata": {
      "needs_background": "light"
     },
     "output_type": "display_data"
    },
    {
     "name": "stdout",
     "output_type": "stream",
     "text": [
      "(210, 220, 30, 242) (210, 20, 30, 246)\n",
      "(10, 220, 30, 250) (210, 20, 230, 244)\n",
      "8 9 64 72\n",
      "7 8 63 71\n",
      "72 64\n"
     ]
    },
    {
     "data": {
      "image/png": "[encoded data removed]",
      "text/plain": [
       "<Figure size 432x288 with 1 Axes>"
      ]
     },
     "metadata": {
      "needs_background": "light"
     },
     "output_type": "display_data"
    },
    {
     "name": "stdout",
     "output_type": "stream",
     "text": [
      "(210, 220, 30, 242) (210, 20, 30, 246)\n",
      "(10, 220, 30, 250) (210, 20, 230, 244)\n",
      "8 9 128 144\n",
      "7 8 127 143\n",
      "144 128\n"
     ]
    },
    {
     "data": {
      "image/png": "[encoded data removed]",
      "text/plain": [
       "<Figure size 432x288 with 1 Axes>"
      ]
     },
     "metadata": {
      "needs_background": "light"
     },
     "output_type": "display_data"
    },
    {
     "name": "stdout",
     "output_type": "stream",
     "text": [
      "(210, 220, 30, 242) (210, 20, 30, 246)\n",
      "(10, 220, 30, 250) (210, 20, 230, 244)\n",
      "8 9 256 288\n",
      "7 8 255 287\n",
      "288 256\n"
     ]
    },
    {
     "data": {
      "image/png": "[encoded data removed]",
      "text/plain": [
       "<Figure size 432x288 with 1 Axes>"
      ]
     },
     "metadata": {
      "needs_background": "light"
     },
     "output_type": "display_data"
    },
    {
     "name": "stdout",
     "output_type": "stream",
     "text": [
      "(210, 220, 30, 242) (210, 20, 30, 246)\n",
      "(10, 220, 30, 250) (210, 20, 230, 244)\n",
      "8 9 512 576\n",
      "7 8 511 575\n",
      "576 512\n"
     ]
    },
    {
     "data": {
      "image/png": "[encoded data removed]",
      "text/plain": [
       "<Figure size 432x288 with 1 Axes>"
      ]
     },
     "metadata": {
      "needs_background": "light"
     },
     "output_type": "display_data"
    },
    {
     "name": "stdout",
     "output_type": "stream",
     "text": [
      "(210, 220, 30, 242) (210, 20, 30, 246)\n",
      "(10, 220, 30, 250) (210, 20, 230, 244)\n",
      "8 9 1024 1152\n",
      "7 8 1023 1151\n",
      "1152 1024\n"
     ]
    },
    {
     "data": {
      "image/png": "[encoded data removed]",
      "text/plain": [
       "<Figure size 432x288 with 1 Axes>"
      ]
     },
     "metadata": {
      "needs_background": "light"
     },
     "output_type": "display_data"
    },
    {
     "name": "stdout",
     "output_type": "stream",
     "text": [
      "(210, 220, 30, 242) (210, 20, 30, 246)\n",
      "(10, 220, 30, 250) (210, 20, 230, 244)\n",
      "8 9 2048 2304\n",
      "7 8 2047 2303\n",
      "2304 2048\n"
     ]
    },
    {
     "data": {
      "image/png": "[encoded data removed]",
      "text/plain": [
       "<Figure size 432x288 with 1 Axes>"
      ]
     },
     "metadata": {
      "needs_background": "light"
     },
     "output_type": "display_data"
    },
    {
     "name": "stdout",
     "output_type": "stream",
     "text": [
      "(210, 220, 30, 242) (210, 20, 30, 246)\n",
      "(10, 220, 30, 250) (210, 20, 230, 244)\n",
      "8 9 4096 4608\n",
      "7 8 4095 4607\n",
      "4608 4096\n"
     ]
    },
    {
     "data": {
      "image/png": "[encoded data removed]",
      "text/plain": [
       "<Figure size 432x288 with 1 Axes>"
      ]
     },
     "metadata": {
      "needs_background": "light"
     },
     "output_type": "display_data"
    },
    {
     "name": "stdout",
     "output_type": "stream",
     "text": [
      "(210, 220, 30, 242) (210, 20, 30, 246)\n",
      "(10, 220, 30, 250) (210, 20, 230, 244)\n",
      "8 9 8192 9216\n",
      "7 8 8191 9215\n",
      "9216 8192\n"
     ]
    },
    {
     "data": {
      "image/png": "[encoded data removed]",
      "text/plain": [
       "<Figure size 432x288 with 1 Axes>"
      ]
     },
     "metadata": {
      "needs_background": "light"
     },
     "output_type": "display_data"
    },
    {
     "name": "stdout",
     "output_type": "stream",
     "text": [
      "(210, 220, 30, 242) (210, 20, 30, 246)\n",
      "(10, 220, 30, 250) (210, 20, 230, 244)\n",
      "8 9 256 288\n",
      "7 8 255 287\n",
      "288 256\n"
     ]
    },
    {
     "data": {
      "image/png": "[encoded data removed]",
      "text/plain": [
       "<Figure size 432x288 with 1 Axes>"
      ]
     },
     "metadata": {
      "needs_background": "light"
     },
     "output_type": "display_data"
    },
    {
     "name": "stdout",
     "output_type": "stream",
     "text": [
      "(210, 220, 30, 242) (210, 20, 30, 246)\n",
      "(10, 220, 30, 250) (210, 20, 230, 244)\n"
     ]
    }
   ],
   "source": [
    "import numpy as np\n",
    "from PIL import Image, ImageDraw\n",
    "from matplotlib import pyplot as plt\n",
    "\n",
    "blue_12     = ( 10,  20, 230, 252)\n",
    "green_10    = ( 10, 220,  30, 250)\n",
    "cyan_8      = ( 10, 220, 230, 248)\n",
    "red_6       = (210,  20,  30, 246)\n",
    "magenta_4   = (210,  20, 230, 244)\n",
    "yellow_2    = (210, 220,  30, 242)\n",
    "\n",
    "blu = blue_12   \n",
    "gre = green_10  \n",
    "cya = cyan_8    \n",
    "red = red_6     \n",
    "mag = magenta_4 \n",
    "yel = yellow_2  \n",
    "\n",
    "cells = [\n",
    "    [ yel, yel, yel, yel, mag, mag, mag, mag, red ],\n",
    "    [ yel, yel, yel, yel, mag, mag, mag, mag, mag ],\n",
    "    [ yel, yel, yel, yel, cya, cya, cya, cya, mag ],\n",
    "    [ yel, yel, yel, yel, cya, cya, cya, cya, mag ],\n",
    "    [ gre, gre, gre, gre, blu, blu, blu, blu, mag ],\n",
    "    [ gre, gre, gre, gre, blu, blu, blu, blu, mag ],\n",
    "    [ gre, gre, gre, gre, blu, blu, blu, blu, mag ],\n",
    "    [ gre, gre, red, red, red, red, blu, blu, mag ]\n",
    "]\n",
    "\n",
    "def print_pixel_data(pythonList):\n",
    "    titles = [\"row\", \"col\",\"r\", \"g\", \"b\", \"a\"]\n",
    "    header = \"\\t\".join(titles)\n",
    "    print(header)\n",
    "    for rowIx, row in enumerate(pythonList):\n",
    "        for colIx, pixel in enumerate(row):\n",
    "            print(rowIx, colIx, *pixel, sep=\"\\t\")\n",
    "\n",
    "def create_sample(size, isPreview=False):\n",
    "    savefilename = \"../sample-size-{}.png\".format(size)\n",
    "    previewfilename = \"../doc/sample-preview.png\"\n",
    "    savefilename = previewfilename if isPreview else savefilename\n",
    "    nbCellRows = len(cells)\n",
    "    nbCellCols = len(cells[0])\n",
    "    nbRows = size * nbCellRows \n",
    "    nbCols = size * nbCellCols \n",
    "    print(nbCellRows, nbCellCols, nbRows, nbCols)\n",
    "\n",
    "    maxCellRow = nbCellRows - 1\n",
    "    maxCellCol = nbCellCols - 1\n",
    "    maxRow = nbRows - 1\n",
    "    maxCol = nbCols - 1\n",
    "    print(maxCellRow, maxCellCol, maxRow, maxCol)\n",
    "\n",
    "    width = nbCols\n",
    "    height = nbRows\n",
    "    print(width, height)\n",
    "    im = Image.new(\"RGBA\", (width, height), (0,0,0,255))\n",
    "    d = ImageDraw.Draw(im)\n",
    "\n",
    "    #plt.imshow(im)\n",
    "    #plt.show()\n",
    "\n",
    "\n",
    "    def rowCol_to_XY(row, col):\n",
    "        return {\"X\": col, \"Y\": row}\n",
    "\n",
    "    def rowCol_to_XY_tuple(row, col):\n",
    "        xy = rowCol_to_XY(row, col)\n",
    "        return(xy[\"X\"], xy[\"Y\"])\n",
    "\n",
    "\n",
    "    def fill_rectangle(cellRow, cellCol, colour=None):\n",
    "        cellXY = rowCol_to_XY(cellRow, cellCol)\n",
    "        rectX0 = size * cellXY[\"X\"]\n",
    "        rectY0 = size * cellXY[\"Y\"]\n",
    "        rectX1 = rectX0 + size\n",
    "        rectY1 = rectY0 + size\n",
    "        rectXY = [rectX0, rectY0, rectX1, rectY1]\n",
    "        colour = cells[cellRow][cellCol] if colour is None else colour\n",
    "        d.rectangle(rectXY, fill=colour, outline=colour, width=0)\n",
    "\n",
    "\n",
    "    for cellRow in range(nbCellRows):\n",
    "        for cellCol in range(nbCellCols):\n",
    "            fill_rectangle(cellRow, cellCol)\n",
    "\n",
    "    # Corner coordinates\n",
    "    topLeftPixel = rowCol_to_XY_tuple(     0,      0)\n",
    "    topRighPixel = rowCol_to_XY_tuple(     0, maxCol)\n",
    "    botLeftPixel = rowCol_to_XY_tuple(maxRow,      0)\n",
    "    botRighPixel = rowCol_to_XY_tuple(maxRow, maxCol)\n",
    "\n",
    "    # Make top-right cell always 1x1 pixels\n",
    "    lonePixelColour = cells[0][-1]\n",
    "    surroundingColour = cells[0][-2]\n",
    "    if savefilename != previewfilename:\n",
    "        fill_rectangle(0, maxCellCol, surroundingColour)\n",
    "        im.putpixel(topRighPixel, lonePixelColour)\n",
    "\n",
    "\n",
    "    plt.axis(\"off\")\n",
    "    plt.imshow(im)\n",
    "    plt.show()\n",
    "\n",
    "    print(im.getpixel(topLeftPixel), im.getpixel(topRighPixel))\n",
    "    print(im.getpixel(botLeftPixel), im.getpixel(botRighPixel))\n",
    "\n",
    "    im.save(savefilename)\n",
    "\n",
    "sizes = [1, 2, 4, 8, 16, 32, 64, 128, 256, 512, 1024]\n",
    "for size in sizes:\n",
    "    create_sample(size)\n",
    "create_sample(32, isPreview=True)"
   ]
  },
  {
   "cell_type": "code",
   "execution_count": 63,
   "id": "surrounded-brass",
   "metadata": {},
   "outputs": [],
   "source": [
    "im_1 = Image.open(\"sample-size-1.png\")\n",
    "im_4 = Image.open(\"sample-size-4.png\")\n",
    "im_16 = Image.open(\"sample-size-16.png\")\n",
    "im_256 = Image.open(\"sample-size-256.png\")\n",
    "im_1024 = Image.open(\"sample-size-1024.png\")"
   ]
  },
  {
   "cell_type": "code",
   "execution_count": 67,
   "id": "metropolitan-division",
   "metadata": {},
   "outputs": [
    {
     "name": "stdout",
     "output_type": "stream",
     "text": [
      "Size 1: (width = 9, height = 8)\n",
      "(210, 220,  30, 242) (210,  20,  30, 246)\n",
      "( 10, 220,  30, 250) (210,  20, 230, 244)\n",
      "\n",
      "Size 4: (width = 36, height = 32)\n",
      "(210, 220,  30, 242) (210,  20,  30, 246)\n",
      "( 10, 220,  30, 250) (210,  20, 230, 244)\n",
      "\n",
      "Size 16: (width = 144, height = 128)\n",
      "(210, 220,  30, 242) (210,  20,  30, 246)\n",
      "( 10, 220,  30, 250) (210,  20, 230, 244)\n",
      "\n",
      "Size 256: (width = 2304, height = 2048)\n",
      "(210, 220,  30, 242) (210,  20,  30, 246)\n",
      "( 10, 220,  30, 250) (210,  20, 230, 244)\n",
      "\n",
      "Size 1024: (width = 9216, height = 8192)\n",
      "(210, 220,  30, 242) (210,  20,  30, 246)\n",
      "( 10, 220,  30, 250) (210,  20, 230, 244)\n",
      "\n"
     ]
    }
   ],
   "source": [
    "def format_pixel(pixel):\n",
    "    formattedChannels = map(lambda x: \"{:>3}\".format(x), pixel)\n",
    "    joined = \", \".join(formattedChannels)\n",
    "    enclosed = \"(\" + joined + \")\"\n",
    "    return enclosed\n",
    "    \n",
    "def print_corners(im, size):\n",
    "    maxRow = im.height - 1\n",
    "    maxCol = im.width - 1\n",
    "    \n",
    "    topLeftPixel = rowCol_to_XY_tuple(     0,      0)\n",
    "    topRighPixel = rowCol_to_XY_tuple(     0, maxCol)\n",
    "    botLeftPixel = rowCol_to_XY_tuple(maxRow,      0)\n",
    "    botRighPixel = rowCol_to_XY_tuple(maxRow, maxCol)\n",
    "    \n",
    "    formatted_topLeft = format_pixel(im.getpixel(topLeftPixel))\n",
    "    formatted_topRigh = format_pixel(im.getpixel(topRighPixel))\n",
    "    formatted_botLeft = format_pixel(im.getpixel(botLeftPixel))\n",
    "    formatted_botRigh = format_pixel(im.getpixel(botRighPixel))\n",
    "    \n",
    "    print(\"Size {}: (width = {}, height = {})\".format(size, im.width, im.height))\n",
    "    print(formatted_topLeft, formatted_topRigh)\n",
    "    print(formatted_botLeft, formatted_botRigh)\n",
    "    print()\n",
    "\n",
    "print_corners(im_1, 1)\n",
    "print_corners(im_4, 4)\n",
    "print_corners(im_16, 16)\n",
    "print_corners(im_256, 256)\n",
    "print_corners(im_1024, 1024)"
   ]
  },
  {
   "cell_type": "code",
   "execution_count": null,
   "id": "standing-lottery",
   "metadata": {},
   "outputs": [],
   "source": []
  }
 ],
 "metadata": {
  "kernelspec": {
   "display_name": "Python 3",
   "language": "python",
   "name": "python3"
  },
  "language_info": {
   "codemirror_mode": {
    "name": "ipython",
    "version": 3
   },
   "file_extension": ".py",
   "mimetype": "text/x-python",
   "name": "python",
   "nbconvert_exporter": "python",
   "pygments_lexer": "ipython3",
   "version": "3.9.1"
  }
 },
 "nbformat": 4,
 "nbformat_minor": 5
}
